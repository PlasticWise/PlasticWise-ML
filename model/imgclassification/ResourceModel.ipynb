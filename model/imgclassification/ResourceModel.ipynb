{
  "nbformat": 4,
  "nbformat_minor": 0,
  "metadata": {
    "colab": {
      "provenance": [],
      "gpuType": "T4"
    },
    "kernelspec": {
      "name": "python3",
      "display_name": "Python 3"
    },
    "language_info": {
      "name": "python"
    },
    "accelerator": "GPU"
  },
  "cells": [
    {
      "cell_type": "markdown",
      "source": [
        "# Plastic Recycle Classification\n",
        "\n",
        "Notebook ini berfungsi sebagai resource untuk pembuatan model klasifikasi gambar plastik berdasarkan kode recycle-nya.\n",
        "Notebook ini mencakup:\n",
        "1. Pengaturan struktur folder dan pemetaan gambar berdasarkan tipe objek.\n",
        "2. Penggunaan `ImageDataGenerator` dari Keras untuk mempersiapkan dataset\n",
        "3. Melatih model image classification menggunakan MobileNetV2.\n",
        "4. Evaluasi model menggunakan dataset test.\n",
        "   \n",
        "Dengan notebook ini, \\ dapat mempermudah proses pembuatan model asli untuk klasifikasi plastik berdasarkan kode recycle.\n"
      ],
      "metadata": {
        "id": "cS8ZMAAK6alN"
      }
    },
    {
      "cell_type": "markdown",
      "source": [
        "## Import Library"
      ],
      "metadata": {
        "id": "n9mNG6o-5UhT"
      }
    },
    {
      "cell_type": "code",
      "execution_count": null,
      "metadata": {
        "id": "V9afHTeJ5PpO"
      },
      "outputs": [],
      "source": [
        "import os\n",
        "import shutil\n",
        "import tensorflow as tf\n",
        "from tensorflow.keras.preprocessing.image import ImageDataGenerator\n",
        "from tensorflow.keras.applications import MobileNetV2\n",
        "from tensorflow.keras.models import Model\n",
        "from tensorflow.keras.layers import Dense, GlobalAveragePooling2D"
      ]
    },
    {
      "cell_type": "markdown",
      "source": [
        "## Mengatur Struktur Folder dan Memetakan Gambar (incase butuh code buat metain folder)"
      ],
      "metadata": {
        "id": "9LWzRzGJ8PZo"
      }
    },
    {
      "cell_type": "code",
      "source": [
        "# Path ke folder gambar asli\n",
        "source_dir = 'path_to_your_images'\n",
        "# Path ke folder target\n",
        "target_dir = 'path_to_target_dataset'\n",
        "\n",
        "# Dictionary untuk mapping tipe objek ke kategori recycle\n",
        "object_to_recycle = {\n",
        "    'Botol Minyak': 'PET',\n",
        "    'Botol Plastic': 'PET',\n",
        "    'tempat makan ovenproof': 'PET',\n",
        "    'Botol Susu (kecil)': 'HDPE',\n",
        "    'Botol Jus': 'HDPE',\n",
        "    'Kemasan Mentega': 'HDPE',\n",
        "    'Botol Detergen': 'PVC',\n",
        "    'Shampoo': 'PVC',\n",
        "    'Pipa': 'PVC',\n",
        "    'Mika': 'PVC',\n",
        "    'Kresek': 'LDPE',\n",
        "    'botol yang ditekan': 'LDPE',\n",
        "    'pembukus biscuit': 'PP',\n",
        "    'Botol Obat': 'PP',\n",
        "    'Sedotan': 'PP',\n",
        "    'Botol Minuman': 'PP',\n",
        "    'Susu Bayi': 'PP',\n",
        "    'CD': 'PS',\n",
        "    'Styrofoam': 'PS',\n",
        "    'wadah makanan beku': 'PS'\n",
        "}\n",
        "\n",
        "# Pastikan folder target ada\n",
        "os.makedirs(target_dir, exist_ok=True)\n",
        "\n",
        "# Function untuk memindahkan gambar\n",
        "def move_images(source_dir, target_dir, object_to_recycle):\n",
        "    for file_name in os.listdir(source_dir):\n",
        "        for object_type, recycle_category in object_to_recycle.items():\n",
        "            # Periksa apakah tipe objek ada dalam nama file\n",
        "            if object_type.lower().replace(' ', '_') in file_name.lower():\n",
        "                # Path target untuk kategori recycle\n",
        "                target_sub_dir = os.path.join(target_dir, recycle_category, object_type)\n",
        "                os.makedirs(target_sub_dir, exist_ok=True)\n",
        "                # Pindahkan file ke folder yang sesuai\n",
        "                shutil.move(os.path.join(source_dir, file_name), os.path.join(target_sub_dir, file_name))\n",
        "                break\n",
        "\n",
        "# Pindahkan gambar berdasarkan mapping\n",
        "move_images(source_dir, target_dir, object_to_recycle)\n",
        "\n",
        "print(\"Images moved successfully!\")\n"
      ],
      "metadata": {
        "id": "y0bjmC1F8VEV"
      },
      "execution_count": null,
      "outputs": []
    },
    {
      "cell_type": "markdown",
      "source": [
        "## Menyiapkan Data Generator"
      ],
      "metadata": {
        "id": "PMHkiBhV9AGS"
      }
    },
    {
      "cell_type": "markdown",
      "source": [
        "Menggunakan ImageDataGenerator untuk Memuat Dataset"
      ],
      "metadata": {
        "id": "hqBNUn2q-D1S"
      }
    },
    {
      "cell_type": "code",
      "source": [
        "train_path = ''\n",
        "val_path = ''\n",
        "# ImageDataGenerator for training with data augmentation\n",
        "train_datagen = ImageDataGenerator(\n",
        "    rescale=1./255,  # Normalize pixel values to [0, 1]\n",
        "    rotation_range=20,\n",
        "    width_shift_range=0.2,\n",
        "    height_shift_range=0.2,\n",
        "    shear_range=0.2,\n",
        "    zoom_range=0.2,\n",
        "    horizontal_flip=True,\n",
        "    fill_mode='nearest',\n",
        "    validation_split=0.2  # 20% of data used for validation\n",
        ")\n",
        "\n",
        "# Training data generator\n",
        "train_generator = train_datagen.flow_from_directory(\n",
        "    target_dir,\n",
        "    target_size=(224, 224),  # Resize images to 224x224\n",
        "    batch_size=32,\n",
        "    class_mode='categorical',\n",
        "    subset='training'\n",
        ")\n",
        "\n",
        "# Validation data generator\n",
        "validation_generator = train_datagen.flow_from_directory(\n",
        "    target_dir,\n",
        "    target_size=(224, 224),\n",
        "    batch_size=32,\n",
        "    class_mode='categorical',\n",
        "    subset='validation'\n",
        ")\n",
        "\n"
      ],
      "metadata": {
        "id": "ktk1f2Dq9lYU"
      },
      "execution_count": null,
      "outputs": []
    },
    {
      "cell_type": "markdown",
      "source": [
        "## Melatih Model Dengan MobileNetV2"
      ],
      "metadata": {
        "id": "sEKlG_6T-FEU"
      }
    },
    {
      "cell_type": "code",
      "source": [
        "# Load the pretrained MobileNetV2 model\n",
        "base_model = MobileNetV2(weights='imagenet', include_top=False, input_shape=(224, 224, 3))\n",
        "\n",
        "# Add new layers on top of the base model\n",
        "x = base_model.output\n",
        "x = GlobalAveragePooling2D()(x)\n",
        "x = Dense(1024, activation='relu')(x)\n",
        "predictions = Dense(train_generator.num_classes, activation='softmax')(x)\n",
        "\n",
        "# Define the new model\n",
        "model = Model(inputs=base_model.input, outputs=predictions)\n",
        "\n",
        "# Freeze the layers of the base model\n",
        "for layer in base_model.layers:\n",
        "    layer.trainable = False\n",
        "\n",
        "# Compile the model\n",
        "model.compile(optimizer='adam', loss='categorical_crossentropy', metrics=['accuracy'])\n",
        "\n",
        "# Train the model\n",
        "history = model.fit(\n",
        "    train_generator,\n",
        "    epochs=10,\n",
        "    validation_data=validation_generator\n",
        ")\n"
      ],
      "metadata": {
        "id": "Nv_w-LqP-Nf8"
      },
      "execution_count": null,
      "outputs": []
    },
    {
      "cell_type": "markdown",
      "source": [
        "## Evaluasi Model"
      ],
      "metadata": {
        "id": "xU9sAECQ-PFs"
      }
    },
    {
      "cell_type": "code",
      "source": [
        "# Test data generator\n",
        "test_datagen = ImageDataGenerator(rescale=1./255)\n",
        "test_generator = test_datagen.flow_from_directory(\n",
        "    'path_to_test_dataset',  # Adjust this to your test dataset path\n",
        "    target_size=(224, 224),\n",
        "    batch_size=32,\n",
        "    class_mode='categorical'\n",
        ")\n",
        "\n",
        "# Evaluate the model\n",
        "loss, accuracy = model.evaluate(test_generator)\n",
        "print(f'Test Accuracy: {accuracy*100:.2f}%')"
      ],
      "metadata": {
        "id": "kjH80IZw-VwD"
      },
      "execution_count": null,
      "outputs": []
    }
  ]
}